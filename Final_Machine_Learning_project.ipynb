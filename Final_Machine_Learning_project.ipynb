{
  "nbformat": 4,
  "nbformat_minor": 0,
  "metadata": {
    "colab": {
      "name": "Final Machine Learning project.ipynb",
      "provenance": [],
      "include_colab_link": true
    },
    "kernelspec": {
      "display_name": "Python 3",
      "language": "python",
      "name": "python3"
    },
    "language_info": {
      "codemirror_mode": {
        "name": "ipython",
        "version": 3
      },
      "file_extension": ".py",
      "mimetype": "text/x-python",
      "name": "python",
      "nbconvert_exporter": "python",
      "pygments_lexer": "ipython3",
      "version": "3.8.5"
    }
  },
  "cells": [
    {
      "cell_type": "markdown",
      "metadata": {
        "id": "view-in-github",
        "colab_type": "text"
      },
      "source": [
        "<a href=\"https://colab.research.google.com/github/Kkunal-Kamthan/Kkunal-Kamthan/blob/main/Final_Machine_Learning_project.ipynb\" target=\"_parent\"><img src=\"https://colab.research.google.com/assets/colab-badge.svg\" alt=\"Open In Colab\"/></a>"
      ]
    },
    {
      "cell_type": "markdown",
      "metadata": {
        "id": "qaA-L6tqQVqR"
      },
      "source": [
        "#  Title:Prediction of on time delivery of products Using machine Learning Technique"
      ]
    },
    {
      "cell_type": "code",
      "metadata": {
        "id": "9BaSvCSlkbUn"
      },
      "source": [
        "import numpy as np\n",
        "import pandas as pd\n",
        "import seaborn as sns\n",
        "import matplotlib.pyplot as plt\n",
        "from sklearn.preprocessing import LabelEncoder , StandardScaler, MinMaxScaler\n",
        "from sklearn.model_selection import train_test_split, GridSearchCV\n",
        "from sklearn import svm\n",
        "from sklearn.ensemble import RandomForestClassifier\n",
        "from sklearn.linear_model import LogisticRegression\n",
        "from sklearn.metrics import accuracy_score, confusion_matrix, classification_report\n",
        "from sklearn.feature_selection import chi2\n",
        "from scipy.stats import chi2_contingency"
      ],
      "execution_count": null,
      "outputs": []
    },
    {
      "cell_type": "code",
      "metadata": {
        "id": "CgTzE4cukfXJ"
      },
      "source": [
        "df=pd.read_csv(\"C:\\\\Users\\\\Rahul\\\\Downloads\\\\E_customer_shipping_data.csv\")"
      ],
      "execution_count": null,
      "outputs": []
    },
    {
      "cell_type": "code",
      "metadata": {
        "colab": {
          "base_uri": "https://localhost:8080/",
          "height": 437
        },
        "id": "zlBBOovBlKSK",
        "outputId": "cd5f576e-365b-4489-eb0e-05de44de8310"
      },
      "source": [
        "df"
      ],
      "execution_count": null,
      "outputs": [
        {
          "output_type": "execute_result",
          "data": {
            "text/html": [
              "<div>\n",
              "<style scoped>\n",
              "    .dataframe tbody tr th:only-of-type {\n",
              "        vertical-align: middle;\n",
              "    }\n",
              "\n",
              "    .dataframe tbody tr th {\n",
              "        vertical-align: top;\n",
              "    }\n",
              "\n",
              "    .dataframe thead th {\n",
              "        text-align: right;\n",
              "    }\n",
              "</style>\n",
              "<table border=\"1\" class=\"dataframe\">\n",
              "  <thead>\n",
              "    <tr style=\"text-align: right;\">\n",
              "      <th></th>\n",
              "      <th>ID</th>\n",
              "      <th>Warehouse_block</th>\n",
              "      <th>Mode_of_Shipment</th>\n",
              "      <th>Customer_care_calls</th>\n",
              "      <th>Customer_rating</th>\n",
              "      <th>Cost_of_the_Product</th>\n",
              "      <th>Prior_purchases</th>\n",
              "      <th>Product_importance</th>\n",
              "      <th>Gender</th>\n",
              "      <th>Discount_offered</th>\n",
              "      <th>Weight_in_gms</th>\n",
              "      <th>Reached.on.Time_Y.N</th>\n",
              "    </tr>\n",
              "  </thead>\n",
              "  <tbody>\n",
              "    <tr>\n",
              "      <th>0</th>\n",
              "      <td>1</td>\n",
              "      <td>D</td>\n",
              "      <td>Flight</td>\n",
              "      <td>4</td>\n",
              "      <td>2</td>\n",
              "      <td>177</td>\n",
              "      <td>3</td>\n",
              "      <td>low</td>\n",
              "      <td>F</td>\n",
              "      <td>44</td>\n",
              "      <td>1233</td>\n",
              "      <td>1</td>\n",
              "    </tr>\n",
              "    <tr>\n",
              "      <th>1</th>\n",
              "      <td>2</td>\n",
              "      <td>F</td>\n",
              "      <td>Flight</td>\n",
              "      <td>4</td>\n",
              "      <td>5</td>\n",
              "      <td>216</td>\n",
              "      <td>2</td>\n",
              "      <td>low</td>\n",
              "      <td>M</td>\n",
              "      <td>59</td>\n",
              "      <td>3088</td>\n",
              "      <td>1</td>\n",
              "    </tr>\n",
              "    <tr>\n",
              "      <th>2</th>\n",
              "      <td>3</td>\n",
              "      <td>A</td>\n",
              "      <td>Flight</td>\n",
              "      <td>2</td>\n",
              "      <td>2</td>\n",
              "      <td>183</td>\n",
              "      <td>4</td>\n",
              "      <td>low</td>\n",
              "      <td>M</td>\n",
              "      <td>48</td>\n",
              "      <td>3374</td>\n",
              "      <td>1</td>\n",
              "    </tr>\n",
              "    <tr>\n",
              "      <th>3</th>\n",
              "      <td>4</td>\n",
              "      <td>B</td>\n",
              "      <td>Flight</td>\n",
              "      <td>3</td>\n",
              "      <td>3</td>\n",
              "      <td>176</td>\n",
              "      <td>4</td>\n",
              "      <td>medium</td>\n",
              "      <td>M</td>\n",
              "      <td>10</td>\n",
              "      <td>1177</td>\n",
              "      <td>1</td>\n",
              "    </tr>\n",
              "    <tr>\n",
              "      <th>4</th>\n",
              "      <td>5</td>\n",
              "      <td>C</td>\n",
              "      <td>Flight</td>\n",
              "      <td>2</td>\n",
              "      <td>2</td>\n",
              "      <td>184</td>\n",
              "      <td>3</td>\n",
              "      <td>medium</td>\n",
              "      <td>F</td>\n",
              "      <td>46</td>\n",
              "      <td>2484</td>\n",
              "      <td>1</td>\n",
              "    </tr>\n",
              "    <tr>\n",
              "      <th>...</th>\n",
              "      <td>...</td>\n",
              "      <td>...</td>\n",
              "      <td>...</td>\n",
              "      <td>...</td>\n",
              "      <td>...</td>\n",
              "      <td>...</td>\n",
              "      <td>...</td>\n",
              "      <td>...</td>\n",
              "      <td>...</td>\n",
              "      <td>...</td>\n",
              "      <td>...</td>\n",
              "      <td>...</td>\n",
              "    </tr>\n",
              "    <tr>\n",
              "      <th>10994</th>\n",
              "      <td>10995</td>\n",
              "      <td>A</td>\n",
              "      <td>Ship</td>\n",
              "      <td>4</td>\n",
              "      <td>1</td>\n",
              "      <td>252</td>\n",
              "      <td>5</td>\n",
              "      <td>medium</td>\n",
              "      <td>F</td>\n",
              "      <td>1</td>\n",
              "      <td>1538</td>\n",
              "      <td>1</td>\n",
              "    </tr>\n",
              "    <tr>\n",
              "      <th>10995</th>\n",
              "      <td>10996</td>\n",
              "      <td>B</td>\n",
              "      <td>Ship</td>\n",
              "      <td>4</td>\n",
              "      <td>1</td>\n",
              "      <td>232</td>\n",
              "      <td>5</td>\n",
              "      <td>medium</td>\n",
              "      <td>F</td>\n",
              "      <td>6</td>\n",
              "      <td>1247</td>\n",
              "      <td>0</td>\n",
              "    </tr>\n",
              "    <tr>\n",
              "      <th>10996</th>\n",
              "      <td>10997</td>\n",
              "      <td>C</td>\n",
              "      <td>Ship</td>\n",
              "      <td>5</td>\n",
              "      <td>4</td>\n",
              "      <td>242</td>\n",
              "      <td>5</td>\n",
              "      <td>low</td>\n",
              "      <td>F</td>\n",
              "      <td>4</td>\n",
              "      <td>1155</td>\n",
              "      <td>0</td>\n",
              "    </tr>\n",
              "    <tr>\n",
              "      <th>10997</th>\n",
              "      <td>10998</td>\n",
              "      <td>F</td>\n",
              "      <td>Ship</td>\n",
              "      <td>5</td>\n",
              "      <td>2</td>\n",
              "      <td>223</td>\n",
              "      <td>6</td>\n",
              "      <td>medium</td>\n",
              "      <td>M</td>\n",
              "      <td>2</td>\n",
              "      <td>1210</td>\n",
              "      <td>0</td>\n",
              "    </tr>\n",
              "    <tr>\n",
              "      <th>10998</th>\n",
              "      <td>10999</td>\n",
              "      <td>D</td>\n",
              "      <td>Ship</td>\n",
              "      <td>2</td>\n",
              "      <td>5</td>\n",
              "      <td>155</td>\n",
              "      <td>5</td>\n",
              "      <td>low</td>\n",
              "      <td>F</td>\n",
              "      <td>6</td>\n",
              "      <td>1639</td>\n",
              "      <td>0</td>\n",
              "    </tr>\n",
              "  </tbody>\n",
              "</table>\n",
              "<p>10999 rows × 12 columns</p>\n",
              "</div>"
            ],
            "text/plain": [
              "          ID Warehouse_block Mode_of_Shipment  Customer_care_calls  \\\n",
              "0          1               D           Flight                    4   \n",
              "1          2               F           Flight                    4   \n",
              "2          3               A           Flight                    2   \n",
              "3          4               B           Flight                    3   \n",
              "4          5               C           Flight                    2   \n",
              "...      ...             ...              ...                  ...   \n",
              "10994  10995               A             Ship                    4   \n",
              "10995  10996               B             Ship                    4   \n",
              "10996  10997               C             Ship                    5   \n",
              "10997  10998               F             Ship                    5   \n",
              "10998  10999               D             Ship                    2   \n",
              "\n",
              "       Customer_rating  Cost_of_the_Product  Prior_purchases  \\\n",
              "0                    2                  177                3   \n",
              "1                    5                  216                2   \n",
              "2                    2                  183                4   \n",
              "3                    3                  176                4   \n",
              "4                    2                  184                3   \n",
              "...                ...                  ...              ...   \n",
              "10994                1                  252                5   \n",
              "10995                1                  232                5   \n",
              "10996                4                  242                5   \n",
              "10997                2                  223                6   \n",
              "10998                5                  155                5   \n",
              "\n",
              "      Product_importance Gender  Discount_offered  Weight_in_gms  \\\n",
              "0                    low      F                44           1233   \n",
              "1                    low      M                59           3088   \n",
              "2                    low      M                48           3374   \n",
              "3                 medium      M                10           1177   \n",
              "4                 medium      F                46           2484   \n",
              "...                  ...    ...               ...            ...   \n",
              "10994             medium      F                 1           1538   \n",
              "10995             medium      F                 6           1247   \n",
              "10996                low      F                 4           1155   \n",
              "10997             medium      M                 2           1210   \n",
              "10998                low      F                 6           1639   \n",
              "\n",
              "       Reached.on.Time_Y.N  \n",
              "0                        1  \n",
              "1                        1  \n",
              "2                        1  \n",
              "3                        1  \n",
              "4                        1  \n",
              "...                    ...  \n",
              "10994                    1  \n",
              "10995                    0  \n",
              "10996                    0  \n",
              "10997                    0  \n",
              "10998                    0  \n",
              "\n",
              "[10999 rows x 12 columns]"
            ]
          },
          "metadata": {
            "tags": []
          },
          "execution_count": 5
        }
      ]
    },
    {
      "cell_type": "markdown",
      "metadata": {
        "id": "MN6yStkmQVqW"
      },
      "source": [
        "# Data profiling"
      ]
    },
    {
      "cell_type": "code",
      "metadata": {
        "colab": {
          "base_uri": "https://localhost:8080/"
        },
        "id": "NqZBbuWxlLOC",
        "outputId": "c5fbc492-bfe0-45a8-a99a-67618292d8a8"
      },
      "source": [
        "df.shape"
      ],
      "execution_count": null,
      "outputs": [
        {
          "output_type": "execute_result",
          "data": {
            "text/plain": [
              "(10999, 12)"
            ]
          },
          "metadata": {
            "tags": []
          },
          "execution_count": 15
        }
      ]
    },
    {
      "cell_type": "code",
      "metadata": {
        "colab": {
          "base_uri": "https://localhost:8080/"
        },
        "id": "LmpB3h8olSbI",
        "outputId": "b244d6ea-d6f8-4c79-94a2-bb4d8a718210"
      },
      "source": [
        "df.info()"
      ],
      "execution_count": null,
      "outputs": [
        {
          "output_type": "stream",
          "text": [
            "<class 'pandas.core.frame.DataFrame'>\n",
            "RangeIndex: 10999 entries, 0 to 10998\n",
            "Data columns (total 12 columns):\n",
            " #   Column               Non-Null Count  Dtype \n",
            "---  ------               --------------  ----- \n",
            " 0   ID                   10999 non-null  int64 \n",
            " 1   Warehouse_block      10999 non-null  object\n",
            " 2   Mode_of_Shipment     10999 non-null  object\n",
            " 3   Customer_care_calls  10999 non-null  int64 \n",
            " 4   Customer_rating      10999 non-null  int64 \n",
            " 5   Cost_of_the_Product  10999 non-null  int64 \n",
            " 6   Prior_purchases      10999 non-null  int64 \n",
            " 7   Product_importance   10999 non-null  object\n",
            " 8   Gender               10999 non-null  object\n",
            " 9   Discount_offered     10999 non-null  int64 \n",
            " 10  Weight_in_gms        10999 non-null  int64 \n",
            " 11  Reached.on.Time_Y.N  10999 non-null  int64 \n",
            "dtypes: int64(8), object(4)\n",
            "memory usage: 1.0+ MB\n"
          ],
          "name": "stdout"
        }
      ]
    },
    {
      "cell_type": "code",
      "metadata": {
        "colab": {
          "base_uri": "https://localhost:8080/"
        },
        "id": "0OWtHEiClXKo",
        "outputId": "5543409b-0a1b-4373-cbbe-46c7a80cb1ba"
      },
      "source": [
        "df.isnull().sum()"
      ],
      "execution_count": null,
      "outputs": [
        {
          "output_type": "execute_result",
          "data": {
            "text/plain": [
              "ID                     0\n",
              "Warehouse_block        0\n",
              "Mode_of_Shipment       0\n",
              "Customer_care_calls    0\n",
              "Customer_rating        0\n",
              "Cost_of_the_Product    0\n",
              "Prior_purchases        0\n",
              "Product_importance     0\n",
              "Gender                 0\n",
              "Discount_offered       0\n",
              "Weight_in_gms          0\n",
              "Reached.on.Time_Y.N    0\n",
              "dtype: int64"
            ]
          },
          "metadata": {
            "tags": []
          },
          "execution_count": 17
        }
      ]
    },
    {
      "cell_type": "code",
      "metadata": {
        "colab": {
          "base_uri": "https://localhost:8080/",
          "height": 315
        },
        "id": "sjXuJyTplcjY",
        "outputId": "56e93ada-d8a8-4b33-9fca-70bc30c60f6a"
      },
      "source": [
        "df.describe()"
      ],
      "execution_count": null,
      "outputs": [
        {
          "output_type": "execute_result",
          "data": {
            "text/html": [
              "<div>\n",
              "<style scoped>\n",
              "    .dataframe tbody tr th:only-of-type {\n",
              "        vertical-align: middle;\n",
              "    }\n",
              "\n",
              "    .dataframe tbody tr th {\n",
              "        vertical-align: top;\n",
              "    }\n",
              "\n",
              "    .dataframe thead th {\n",
              "        text-align: right;\n",
              "    }\n",
              "</style>\n",
              "<table border=\"1\" class=\"dataframe\">\n",
              "  <thead>\n",
              "    <tr style=\"text-align: right;\">\n",
              "      <th></th>\n",
              "      <th>ID</th>\n",
              "      <th>Customer_care_calls</th>\n",
              "      <th>Customer_rating</th>\n",
              "      <th>Cost_of_the_Product</th>\n",
              "      <th>Prior_purchases</th>\n",
              "      <th>Discount_offered</th>\n",
              "      <th>Weight_in_gms</th>\n",
              "      <th>Reached.on.Time_Y.N</th>\n",
              "    </tr>\n",
              "  </thead>\n",
              "  <tbody>\n",
              "    <tr>\n",
              "      <th>count</th>\n",
              "      <td>10999.00000</td>\n",
              "      <td>10999.000000</td>\n",
              "      <td>10999.000000</td>\n",
              "      <td>10999.000000</td>\n",
              "      <td>10999.000000</td>\n",
              "      <td>10999.000000</td>\n",
              "      <td>10999.000000</td>\n",
              "      <td>10999.000000</td>\n",
              "    </tr>\n",
              "    <tr>\n",
              "      <th>mean</th>\n",
              "      <td>5500.00000</td>\n",
              "      <td>4.054459</td>\n",
              "      <td>2.990545</td>\n",
              "      <td>210.196836</td>\n",
              "      <td>3.567597</td>\n",
              "      <td>13.373216</td>\n",
              "      <td>3634.016729</td>\n",
              "      <td>0.596691</td>\n",
              "    </tr>\n",
              "    <tr>\n",
              "      <th>std</th>\n",
              "      <td>3175.28214</td>\n",
              "      <td>1.141490</td>\n",
              "      <td>1.413603</td>\n",
              "      <td>48.063272</td>\n",
              "      <td>1.522860</td>\n",
              "      <td>16.205527</td>\n",
              "      <td>1635.377251</td>\n",
              "      <td>0.490584</td>\n",
              "    </tr>\n",
              "    <tr>\n",
              "      <th>min</th>\n",
              "      <td>1.00000</td>\n",
              "      <td>2.000000</td>\n",
              "      <td>1.000000</td>\n",
              "      <td>96.000000</td>\n",
              "      <td>2.000000</td>\n",
              "      <td>1.000000</td>\n",
              "      <td>1001.000000</td>\n",
              "      <td>0.000000</td>\n",
              "    </tr>\n",
              "    <tr>\n",
              "      <th>25%</th>\n",
              "      <td>2750.50000</td>\n",
              "      <td>3.000000</td>\n",
              "      <td>2.000000</td>\n",
              "      <td>169.000000</td>\n",
              "      <td>3.000000</td>\n",
              "      <td>4.000000</td>\n",
              "      <td>1839.500000</td>\n",
              "      <td>0.000000</td>\n",
              "    </tr>\n",
              "    <tr>\n",
              "      <th>50%</th>\n",
              "      <td>5500.00000</td>\n",
              "      <td>4.000000</td>\n",
              "      <td>3.000000</td>\n",
              "      <td>214.000000</td>\n",
              "      <td>3.000000</td>\n",
              "      <td>7.000000</td>\n",
              "      <td>4149.000000</td>\n",
              "      <td>1.000000</td>\n",
              "    </tr>\n",
              "    <tr>\n",
              "      <th>75%</th>\n",
              "      <td>8249.50000</td>\n",
              "      <td>5.000000</td>\n",
              "      <td>4.000000</td>\n",
              "      <td>251.000000</td>\n",
              "      <td>4.000000</td>\n",
              "      <td>10.000000</td>\n",
              "      <td>5050.000000</td>\n",
              "      <td>1.000000</td>\n",
              "    </tr>\n",
              "    <tr>\n",
              "      <th>max</th>\n",
              "      <td>10999.00000</td>\n",
              "      <td>7.000000</td>\n",
              "      <td>5.000000</td>\n",
              "      <td>310.000000</td>\n",
              "      <td>10.000000</td>\n",
              "      <td>65.000000</td>\n",
              "      <td>7846.000000</td>\n",
              "      <td>1.000000</td>\n",
              "    </tr>\n",
              "  </tbody>\n",
              "</table>\n",
              "</div>"
            ],
            "text/plain": [
              "                ID  Customer_care_calls  ...  Weight_in_gms  Reached.on.Time_Y.N\n",
              "count  10999.00000         10999.000000  ...   10999.000000         10999.000000\n",
              "mean    5500.00000             4.054459  ...    3634.016729             0.596691\n",
              "std     3175.28214             1.141490  ...    1635.377251             0.490584\n",
              "min        1.00000             2.000000  ...    1001.000000             0.000000\n",
              "25%     2750.50000             3.000000  ...    1839.500000             0.000000\n",
              "50%     5500.00000             4.000000  ...    4149.000000             1.000000\n",
              "75%     8249.50000             5.000000  ...    5050.000000             1.000000\n",
              "max    10999.00000             7.000000  ...    7846.000000             1.000000\n",
              "\n",
              "[8 rows x 8 columns]"
            ]
          },
          "metadata": {
            "tags": []
          },
          "execution_count": 18
        }
      ]
    },
    {
      "cell_type": "markdown",
      "metadata": {
        "id": "s5ZEReP_QVqa"
      },
      "source": [
        "# Exploratatory Data Analysis"
      ]
    },
    {
      "cell_type": "code",
      "metadata": {
        "id": "Em3EGpgtQVqa",
        "outputId": "fb95c58d-8e24-4e59-c177-7e0d64581a1b"
      },
      "source": [
        "df.head()"
      ],
      "execution_count": null,
      "outputs": [
        {
          "output_type": "execute_result",
          "data": {
            "text/html": [
              "<div>\n",
              "<style scoped>\n",
              "    .dataframe tbody tr th:only-of-type {\n",
              "        vertical-align: middle;\n",
              "    }\n",
              "\n",
              "    .dataframe tbody tr th {\n",
              "        vertical-align: top;\n",
              "    }\n",
              "\n",
              "    .dataframe thead th {\n",
              "        text-align: right;\n",
              "    }\n",
              "</style>\n",
              "<table border=\"1\" class=\"dataframe\">\n",
              "  <thead>\n",
              "    <tr style=\"text-align: right;\">\n",
              "      <th></th>\n",
              "      <th>ID</th>\n",
              "      <th>Warehouse_block</th>\n",
              "      <th>Mode_of_Shipment</th>\n",
              "      <th>Customer_care_calls</th>\n",
              "      <th>Customer_rating</th>\n",
              "      <th>Cost_of_the_Product</th>\n",
              "      <th>Prior_purchases</th>\n",
              "      <th>Product_importance</th>\n",
              "      <th>Gender</th>\n",
              "      <th>Discount_offered</th>\n",
              "      <th>Weight_in_gms</th>\n",
              "      <th>Reached.on.Time_Y.N</th>\n",
              "    </tr>\n",
              "  </thead>\n",
              "  <tbody>\n",
              "    <tr>\n",
              "      <th>0</th>\n",
              "      <td>1</td>\n",
              "      <td>D</td>\n",
              "      <td>Flight</td>\n",
              "      <td>4</td>\n",
              "      <td>2</td>\n",
              "      <td>177</td>\n",
              "      <td>3</td>\n",
              "      <td>low</td>\n",
              "      <td>F</td>\n",
              "      <td>44</td>\n",
              "      <td>1233</td>\n",
              "      <td>1</td>\n",
              "    </tr>\n",
              "    <tr>\n",
              "      <th>1</th>\n",
              "      <td>2</td>\n",
              "      <td>F</td>\n",
              "      <td>Flight</td>\n",
              "      <td>4</td>\n",
              "      <td>5</td>\n",
              "      <td>216</td>\n",
              "      <td>2</td>\n",
              "      <td>low</td>\n",
              "      <td>M</td>\n",
              "      <td>59</td>\n",
              "      <td>3088</td>\n",
              "      <td>1</td>\n",
              "    </tr>\n",
              "    <tr>\n",
              "      <th>2</th>\n",
              "      <td>3</td>\n",
              "      <td>A</td>\n",
              "      <td>Flight</td>\n",
              "      <td>2</td>\n",
              "      <td>2</td>\n",
              "      <td>183</td>\n",
              "      <td>4</td>\n",
              "      <td>low</td>\n",
              "      <td>M</td>\n",
              "      <td>48</td>\n",
              "      <td>3374</td>\n",
              "      <td>1</td>\n",
              "    </tr>\n",
              "    <tr>\n",
              "      <th>3</th>\n",
              "      <td>4</td>\n",
              "      <td>B</td>\n",
              "      <td>Flight</td>\n",
              "      <td>3</td>\n",
              "      <td>3</td>\n",
              "      <td>176</td>\n",
              "      <td>4</td>\n",
              "      <td>medium</td>\n",
              "      <td>M</td>\n",
              "      <td>10</td>\n",
              "      <td>1177</td>\n",
              "      <td>1</td>\n",
              "    </tr>\n",
              "    <tr>\n",
              "      <th>4</th>\n",
              "      <td>5</td>\n",
              "      <td>C</td>\n",
              "      <td>Flight</td>\n",
              "      <td>2</td>\n",
              "      <td>2</td>\n",
              "      <td>184</td>\n",
              "      <td>3</td>\n",
              "      <td>medium</td>\n",
              "      <td>F</td>\n",
              "      <td>46</td>\n",
              "      <td>2484</td>\n",
              "      <td>1</td>\n",
              "    </tr>\n",
              "  </tbody>\n",
              "</table>\n",
              "</div>"
            ],
            "text/plain": [
              "   ID Warehouse_block Mode_of_Shipment  Customer_care_calls  Customer_rating  \\\n",
              "0   1               D           Flight                    4                2   \n",
              "1   2               F           Flight                    4                5   \n",
              "2   3               A           Flight                    2                2   \n",
              "3   4               B           Flight                    3                3   \n",
              "4   5               C           Flight                    2                2   \n",
              "\n",
              "   Cost_of_the_Product  Prior_purchases Product_importance Gender  \\\n",
              "0                  177                3                low      F   \n",
              "1                  216                2                low      M   \n",
              "2                  183                4                low      M   \n",
              "3                  176                4             medium      M   \n",
              "4                  184                3             medium      F   \n",
              "\n",
              "   Discount_offered  Weight_in_gms  Reached.on.Time_Y.N  \n",
              "0                44           1233                    1  \n",
              "1                59           3088                    1  \n",
              "2                48           3374                    1  \n",
              "3                10           1177                    1  \n",
              "4                46           2484                    1  "
            ]
          },
          "metadata": {
            "tags": []
          },
          "execution_count": 7
        }
      ]
    },
    {
      "cell_type": "code",
      "metadata": {
        "colab": {
          "base_uri": "https://localhost:8080/",
          "height": 349
        },
        "id": "O05ApLsMlh30",
        "outputId": "7ec2fe97-4ab5-4a66-d4e9-be73e99977b5"
      },
      "source": [
        "delay=pd.DataFrame(df.groupby(['Reached.on.Time_Y.N'])['ID'].count()/len(df)).reset_index()\n",
        "plt.pie(delay['ID'],labels=delay['Reached.on.Time_Y.N'],autopct='%1.2f%%')\n",
        "# 40% of the total deliveries are not reach on time"
      ],
      "execution_count": null,
      "outputs": [
        {
          "output_type": "execute_result",
          "data": {
            "text/plain": [
              "([<matplotlib.patches.Wedge at 0x7f1030b16250>,\n",
              "  <matplotlib.patches.Wedge at 0x7f1030b16ad0>],\n",
              " [Text(0.32902377754583456, 1.0496396304491695, '0'),\n",
              "  Text(-0.32902377754583423, -1.0496396304491697, '1')],\n",
              " [Text(0.17946751502500063, 0.5725307075177288, '40.33%'),\n",
              "  Text(-0.17946751502500047, -0.5725307075177288, '59.67%')])"
            ]
          },
          "metadata": {
            "tags": []
          },
          "execution_count": 19
        },
        {
          "output_type": "display_data",
          "data": {
            "image/png": "[encoded data removed]",
            "text/plain": [
              "<Figure size 432x288 with 1 Axes>"
            ]
          },
          "metadata": {
            "tags": []
          }
        }
      ]
    },
    {
      "cell_type": "code",
      "metadata": {
        "colab": {
          "base_uri": "https://localhost:8080/",
          "height": 313
        },
        "id": "A6RpVn2Oll2r",
        "outputId": "12ffeca6-bc56-4e3e-bc19-8e005c0c5581"
      },
      "source": [
        "data_v1 = df[df['Reached.on.Time_Y.N']==0]\n",
        "data_v2=pd.DataFrame((data_v1.groupby(['Mode_of_Shipment'])['ID'].count())/len(data_v1)*100)\n",
        "data_v2=data_v2.reset_index()\n",
        "visual=sns.barplot(x=\"Mode_of_Shipment\", y=\"ID\", data=data_v2 )\n",
        "for index, row in data_v2.iterrows():\n",
        "    visual.text(row.name,row.ID, round(row.ID,2), color='black', ha=\"center\")\n",
        "plt.title('Total number of delayed deliveries vs Shipment mode')\n",
        "plt.ylabel('percentage')\n",
        "# Around 68% of the delayed deliveries are caused when ships are used as a mode of shipments. So, Alternate options like Flight and Road services might be considered to reduce the delayed deliveries"
      ],
      "execution_count": null,
      "outputs": [
        {
          "output_type": "execute_result",
          "data": {
            "text/plain": [
              "Text(0, 0.5, 'percentage')"
            ]
          },
          "metadata": {
            "tags": []
          },
          "execution_count": 9
        },
        {
          "output_type": "display_data",
          "data": {
            "image/png": "[encoded data removed]",
            "text/plain": [
              "<Figure size 432x288 with 1 Axes>"
            ]
          },
          "metadata": {
            "tags": [],
            "needs_background": "light"
          }
        }
      ]
    },
    {
      "cell_type": "markdown",
      "metadata": {
        "id": "nALCLRlpQVqc"
      },
      "source": [
        "Observations:\n",
        "\n",
        "Around 68% of the delayed deliveries are caused when ships are used as a mode of shipments. So, Alternate options like Flight and Road services might be considered to reduce the delayed deliveries"
      ]
    },
    {
      "cell_type": "code",
      "metadata": {
        "id": "Liwi3WiHQVqc",
        "outputId": "7a807ac3-26ed-4f9f-9bdb-0de047feb08a"
      },
      "source": [
        "data_v3=pd.DataFrame((data_v1.groupby(['Warehouse_block'])['ID'].count())/len(data_v1)*100)\n",
        "data_v3=data_v3.reset_index()\n",
        "visual=sns.barplot(x=\"Warehouse_block\", y=\"ID\", data=data_v3 )\n",
        "for index, row in data_v3.iterrows():\n",
        "    visual.text(row.name,row.ID, round(row.ID,2), color='black', ha=\"center\")\n",
        "plt.title('Total number of delayed deliveries vs Warehouse block')\n",
        "plt.ylabel('percentage')"
      ],
      "execution_count": null,
      "outputs": [
        {
          "output_type": "execute_result",
          "data": {
            "text/plain": [
              "Text(0, 0.5, 'percentage')"
            ]
          },
          "metadata": {
            "tags": []
          },
          "execution_count": 14
        },
        {
          "output_type": "display_data",
          "data": {
            "image/png": "[encoded data removed]",
            "text/plain": [
              "<Figure size 432x288 with 1 Axes>"
            ]
          },
          "metadata": {
            "tags": [],
            "needs_background": "light"
          }
        }
      ]
    },
    {
      "cell_type": "markdown",
      "metadata": {
        "id": "WYPNny_TQVqd"
      },
      "source": [
        "Observations\n",
        "\n",
        "Higher percent of delayed deliveries are recorded in Warehouse block F. For rest of the block,the percent of delayed deliveries are almost consistent"
      ]
    },
    {
      "cell_type": "code",
      "metadata": {
        "colab": {
          "base_uri": "https://localhost:8080/",
          "height": 313
        },
        "id": "Br27Of73lq9S",
        "outputId": "5a30bf73-3db2-4b6d-9edc-047500bc45e0"
      },
      "source": [
        "sns.countplot(x = \"Product_importance\", data =df, hue=\"Reached.on.Time_Y.N\")\n",
        "plt.title(\"Product importance by Reached on Time or Not\")\n",
        "# Higher number of deliveries falls under low product importance. Very less number of highly important products delivered. It means customers are ordering more number of low importance products from this ecommerce group\n",
        "\n",
        "\n"
      ],
      "execution_count": null,
      "outputs": [
        {
          "output_type": "execute_result",
          "data": {
            "text/plain": [
              "Text(0.5, 1.0, 'Product importance by Reached on Time or Not')"
            ]
          },
          "metadata": {
            "tags": []
          },
          "execution_count": 21
        },
        {
          "output_type": "display_data",
          "data": {
            "image/png": "[encoded data removed]",
            "text/plain": [
              "<Figure size 432x288 with 1 Axes>"
            ]
          },
          "metadata": {
            "tags": [],
            "needs_background": "light"
          }
        }
      ]
    },
    {
      "cell_type": "code",
      "metadata": {
        "colab": {
          "base_uri": "https://localhost:8080/",
          "height": 312
        },
        "id": "_gR8pB4BmQFk",
        "outputId": "07f9b8ed-a59e-4d1a-e90b-edca6d5dcdc2"
      },
      "source": [
        "sns.boxplot(x='Gender',y='Cost_of_the_Product',data=df,hue='Gender')\n",
        "plt.title(\"Amount spent by each Gender\")"
      ],
      "execution_count": null,
      "outputs": [
        {
          "output_type": "execute_result",
          "data": {
            "text/plain": [
              "Text(0.5, 1.0, 'Amount spent by each Gender')"
            ]
          },
          "metadata": {
            "tags": []
          },
          "execution_count": 22
        },
        {
          "output_type": "display_data",
          "data": {
            "image/png": "[encoded data removed]",
            "text/plain": [
              "<Figure size 432x288 with 1 Axes>"
            ]
          },
          "metadata": {
            "tags": [],
            "needs_background": "light"
          }
        }
      ]
    },
    {
      "cell_type": "code",
      "metadata": {
        "colab": {
          "base_uri": "https://localhost:8080/",
          "height": 382
        },
        "id": "VH0ocm57msxi",
        "outputId": "cb29e661-b274-4714-feae-6b2971baf1bb"
      },
      "source": [
        "corr = df.corr()\n",
        "sns.heatmap(corr, cmap=\"Blues\", annot=True)"
      ],
      "execution_count": null,
      "outputs": [
        {
          "output_type": "execute_result",
          "data": {
            "text/plain": [
              "<matplotlib.axes._subplots.AxesSubplot at 0x7f10304b3b90>"
            ]
          },
          "metadata": {
            "tags": []
          },
          "execution_count": 23
        },
        {
          "output_type": "display_data",
          "data": {
            "image/png": "[encoded data removed]",
            "text/plain": [
              "<Figure size 432x288 with 2 Axes>"
            ]
          },
          "metadata": {
            "tags": [],
            "needs_background": "light"
          }
        }
      ]
    },
    {
      "cell_type": "markdown",
      "metadata": {
        "id": "3HKODX5KQVqf"
      },
      "source": [
        "# Data preparation"
      ]
    },
    {
      "cell_type": "code",
      "metadata": {
        "colab": {
          "base_uri": "https://localhost:8080/",
          "height": 223
        },
        "id": "XNTrRJwAmwIs",
        "outputId": "d9fed439-8d42-436c-d1c6-a9ffaeaf9925"
      },
      "source": [
        "# Data Preparation\n",
        "df=df.drop(['ID'],axis=1)\n",
        "df.head()"
      ],
      "execution_count": null,
      "outputs": [
        {
          "output_type": "execute_result",
          "data": {
            "text/html": [
              "<div>\n",
              "<style scoped>\n",
              "    .dataframe tbody tr th:only-of-type {\n",
              "        vertical-align: middle;\n",
              "    }\n",
              "\n",
              "    .dataframe tbody tr th {\n",
              "        vertical-align: top;\n",
              "    }\n",
              "\n",
              "    .dataframe thead th {\n",
              "        text-align: right;\n",
              "    }\n",
              "</style>\n",
              "<table border=\"1\" class=\"dataframe\">\n",
              "  <thead>\n",
              "    <tr style=\"text-align: right;\">\n",
              "      <th></th>\n",
              "      <th>Warehouse_block</th>\n",
              "      <th>Mode_of_Shipment</th>\n",
              "      <th>Customer_care_calls</th>\n",
              "      <th>Customer_rating</th>\n",
              "      <th>Cost_of_the_Product</th>\n",
              "      <th>Prior_purchases</th>\n",
              "      <th>Product_importance</th>\n",
              "      <th>Gender</th>\n",
              "      <th>Discount_offered</th>\n",
              "      <th>Weight_in_gms</th>\n",
              "      <th>Reached.on.Time_Y.N</th>\n",
              "    </tr>\n",
              "  </thead>\n",
              "  <tbody>\n",
              "    <tr>\n",
              "      <th>0</th>\n",
              "      <td>D</td>\n",
              "      <td>Flight</td>\n",
              "      <td>4</td>\n",
              "      <td>2</td>\n",
              "      <td>177</td>\n",
              "      <td>3</td>\n",
              "      <td>low</td>\n",
              "      <td>F</td>\n",
              "      <td>44</td>\n",
              "      <td>1233</td>\n",
              "      <td>1</td>\n",
              "    </tr>\n",
              "    <tr>\n",
              "      <th>1</th>\n",
              "      <td>F</td>\n",
              "      <td>Flight</td>\n",
              "      <td>4</td>\n",
              "      <td>5</td>\n",
              "      <td>216</td>\n",
              "      <td>2</td>\n",
              "      <td>low</td>\n",
              "      <td>M</td>\n",
              "      <td>59</td>\n",
              "      <td>3088</td>\n",
              "      <td>1</td>\n",
              "    </tr>\n",
              "    <tr>\n",
              "      <th>2</th>\n",
              "      <td>A</td>\n",
              "      <td>Flight</td>\n",
              "      <td>2</td>\n",
              "      <td>2</td>\n",
              "      <td>183</td>\n",
              "      <td>4</td>\n",
              "      <td>low</td>\n",
              "      <td>M</td>\n",
              "      <td>48</td>\n",
              "      <td>3374</td>\n",
              "      <td>1</td>\n",
              "    </tr>\n",
              "    <tr>\n",
              "      <th>3</th>\n",
              "      <td>B</td>\n",
              "      <td>Flight</td>\n",
              "      <td>3</td>\n",
              "      <td>3</td>\n",
              "      <td>176</td>\n",
              "      <td>4</td>\n",
              "      <td>medium</td>\n",
              "      <td>M</td>\n",
              "      <td>10</td>\n",
              "      <td>1177</td>\n",
              "      <td>1</td>\n",
              "    </tr>\n",
              "    <tr>\n",
              "      <th>4</th>\n",
              "      <td>C</td>\n",
              "      <td>Flight</td>\n",
              "      <td>2</td>\n",
              "      <td>2</td>\n",
              "      <td>184</td>\n",
              "      <td>3</td>\n",
              "      <td>medium</td>\n",
              "      <td>F</td>\n",
              "      <td>46</td>\n",
              "      <td>2484</td>\n",
              "      <td>1</td>\n",
              "    </tr>\n",
              "  </tbody>\n",
              "</table>\n",
              "</div>"
            ],
            "text/plain": [
              "  Warehouse_block Mode_of_Shipment  ...  Weight_in_gms  Reached.on.Time_Y.N\n",
              "0               D           Flight  ...           1233                    1\n",
              "1               F           Flight  ...           3088                    1\n",
              "2               A           Flight  ...           3374                    1\n",
              "3               B           Flight  ...           1177                    1\n",
              "4               C           Flight  ...           2484                    1\n",
              "\n",
              "[5 rows x 11 columns]"
            ]
          },
          "metadata": {
            "tags": []
          },
          "execution_count": 24
        }
      ]
    },
    {
      "cell_type": "markdown",
      "metadata": {
        "id": "duR_uqLgQVqf"
      },
      "source": [
        "# Chi square test of independence"
      ]
    },
    {
      "cell_type": "code",
      "metadata": {
        "colab": {
          "base_uri": "https://localhost:8080/"
        },
        "id": "5Zb-jHZSm8jt",
        "outputId": "a03ee652-d3a4-4f4b-ae32-74205e9fbbbb"
      },
      "source": [
        "#Warehouse_block\n",
        "crossTab = pd.crosstab(df['Warehouse_block'],df['Reached.on.Time_Y.N'])\n",
        "ChiSqResult = chi2_contingency(crossTab)\n",
        "print(\"p-value \",ChiSqResult[1])"
      ],
      "execution_count": null,
      "outputs": [
        {
          "output_type": "stream",
          "text": [
            "p-value  0.8959524278243698\n"
          ],
          "name": "stdout"
        }
      ]
    },
    {
      "cell_type": "code",
      "metadata": {
        "colab": {
          "base_uri": "https://localhost:8080/"
        },
        "id": "4Lgv9x4hnA3F",
        "outputId": "05921991-6444-4f05-e94c-fd82300b1768"
      },
      "source": [
        "#mode_of_shipment\n",
        "crossTab = pd.crosstab(df['Mode_of_Shipment'],df['Reached.on.Time_Y.N'])\n",
        "ChiSqResult = chi2_contingency(crossTab)\n",
        "print(\"p-value \",ChiSqResult[1])"
      ],
      "execution_count": null,
      "outputs": [
        {
          "output_type": "stream",
          "text": [
            "p-value  0.6895487627593786\n"
          ],
          "name": "stdout"
        }
      ]
    },
    {
      "cell_type": "code",
      "metadata": {
        "colab": {
          "base_uri": "https://localhost:8080/"
        },
        "id": "ueEtM3_inEaI",
        "outputId": "516739e7-b632-421c-9627-60ffee793100"
      },
      "source": [
        "crossTab = pd.crosstab(df['Product_importance'],df['Reached.on.Time_Y.N'])\n",
        "ChiSqResult = chi2_contingency(crossTab)\n",
        "print(\"p-value \",ChiSqResult[1])"
      ],
      "execution_count": null,
      "outputs": [
        {
          "output_type": "stream",
          "text": [
            "p-value  0.002230383104745087\n"
          ],
          "name": "stdout"
        }
      ]
    },
    {
      "cell_type": "code",
      "metadata": {
        "colab": {
          "base_uri": "https://localhost:8080/"
        },
        "id": "__GMtNHlnIhs",
        "outputId": "d4dfb8b8-e18a-4d69-9948-6a798d876f6f"
      },
      "source": [
        "# Gender\n",
        "crossTab = pd.crosstab(df['Gender'],df['Reached.on.Time_Y.N'])\n",
        "ChiSqResult = chi2_contingency(crossTab)\n",
        "print(\"p-value \",ChiSqResult[1])"
      ],
      "execution_count": null,
      "outputs": [
        {
          "output_type": "stream",
          "text": [
            "p-value  0.6367032124181522\n"
          ],
          "name": "stdout"
        }
      ]
    },
    {
      "cell_type": "markdown",
      "metadata": {
        "id": "eFR6ZidXQVqh"
      },
      "source": [
        "Observations:\n",
        "\n",
        "From chi square test, we can conclude that three of the independent categorical features are not related to the response variable beacause the p value is greater than 0.05. So, these features can be removed and only product importance feature can be included"
      ]
    },
    {
      "cell_type": "code",
      "metadata": {
        "id": "b07bn58WnMVx"
      },
      "source": [
        "#Renaming the column Reached.on.Time_Y.N\n",
        "df.rename(columns={'Reached.on.Time_Y.N':'Reached on Time'}, inplace=True)"
      ],
      "execution_count": null,
      "outputs": []
    },
    {
      "cell_type": "code",
      "metadata": {
        "colab": {
          "base_uri": "https://localhost:8080/",
          "height": 454
        },
        "id": "v_89E-UonRLG",
        "outputId": "a7141970-c383-4170-9f02-40d30dc51ff6"
      },
      "source": [
        "df=pd.get_dummies(df,columns=['Product_importance'], drop_first=True)\n",
        "df"
      ],
      "execution_count": null,
      "outputs": [
        {
          "output_type": "execute_result",
          "data": {
            "text/html": [
              "<div>\n",
              "<style scoped>\n",
              "    .dataframe tbody tr th:only-of-type {\n",
              "        vertical-align: middle;\n",
              "    }\n",
              "\n",
              "    .dataframe tbody tr th {\n",
              "        vertical-align: top;\n",
              "    }\n",
              "\n",
              "    .dataframe thead th {\n",
              "        text-align: right;\n",
              "    }\n",
              "</style>\n",
              "<table border=\"1\" class=\"dataframe\">\n",
              "  <thead>\n",
              "    <tr style=\"text-align: right;\">\n",
              "      <th></th>\n",
              "      <th>Warehouse_block</th>\n",
              "      <th>Mode_of_Shipment</th>\n",
              "      <th>Customer_care_calls</th>\n",
              "      <th>Customer_rating</th>\n",
              "      <th>Cost_of_the_Product</th>\n",
              "      <th>Prior_purchases</th>\n",
              "      <th>Gender</th>\n",
              "      <th>Discount_offered</th>\n",
              "      <th>Weight_in_gms</th>\n",
              "      <th>Reached on Time</th>\n",
              "      <th>Product_importance_low</th>\n",
              "      <th>Product_importance_medium</th>\n",
              "    </tr>\n",
              "  </thead>\n",
              "  <tbody>\n",
              "    <tr>\n",
              "      <th>0</th>\n",
              "      <td>D</td>\n",
              "      <td>Flight</td>\n",
              "      <td>4</td>\n",
              "      <td>2</td>\n",
              "      <td>177</td>\n",
              "      <td>3</td>\n",
              "      <td>F</td>\n",
              "      <td>44</td>\n",
              "      <td>1233</td>\n",
              "      <td>1</td>\n",
              "      <td>1</td>\n",
              "      <td>0</td>\n",
              "    </tr>\n",
              "    <tr>\n",
              "      <th>1</th>\n",
              "      <td>F</td>\n",
              "      <td>Flight</td>\n",
              "      <td>4</td>\n",
              "      <td>5</td>\n",
              "      <td>216</td>\n",
              "      <td>2</td>\n",
              "      <td>M</td>\n",
              "      <td>59</td>\n",
              "      <td>3088</td>\n",
              "      <td>1</td>\n",
              "      <td>1</td>\n",
              "      <td>0</td>\n",
              "    </tr>\n",
              "    <tr>\n",
              "      <th>2</th>\n",
              "      <td>A</td>\n",
              "      <td>Flight</td>\n",
              "      <td>2</td>\n",
              "      <td>2</td>\n",
              "      <td>183</td>\n",
              "      <td>4</td>\n",
              "      <td>M</td>\n",
              "      <td>48</td>\n",
              "      <td>3374</td>\n",
              "      <td>1</td>\n",
              "      <td>1</td>\n",
              "      <td>0</td>\n",
              "    </tr>\n",
              "    <tr>\n",
              "      <th>3</th>\n",
              "      <td>B</td>\n",
              "      <td>Flight</td>\n",
              "      <td>3</td>\n",
              "      <td>3</td>\n",
              "      <td>176</td>\n",
              "      <td>4</td>\n",
              "      <td>M</td>\n",
              "      <td>10</td>\n",
              "      <td>1177</td>\n",
              "      <td>1</td>\n",
              "      <td>0</td>\n",
              "      <td>1</td>\n",
              "    </tr>\n",
              "    <tr>\n",
              "      <th>4</th>\n",
              "      <td>C</td>\n",
              "      <td>Flight</td>\n",
              "      <td>2</td>\n",
              "      <td>2</td>\n",
              "      <td>184</td>\n",
              "      <td>3</td>\n",
              "      <td>F</td>\n",
              "      <td>46</td>\n",
              "      <td>2484</td>\n",
              "      <td>1</td>\n",
              "      <td>0</td>\n",
              "      <td>1</td>\n",
              "    </tr>\n",
              "    <tr>\n",
              "      <th>...</th>\n",
              "      <td>...</td>\n",
              "      <td>...</td>\n",
              "      <td>...</td>\n",
              "      <td>...</td>\n",
              "      <td>...</td>\n",
              "      <td>...</td>\n",
              "      <td>...</td>\n",
              "      <td>...</td>\n",
              "      <td>...</td>\n",
              "      <td>...</td>\n",
              "      <td>...</td>\n",
              "      <td>...</td>\n",
              "    </tr>\n",
              "    <tr>\n",
              "      <th>10994</th>\n",
              "      <td>A</td>\n",
              "      <td>Ship</td>\n",
              "      <td>4</td>\n",
              "      <td>1</td>\n",
              "      <td>252</td>\n",
              "      <td>5</td>\n",
              "      <td>F</td>\n",
              "      <td>1</td>\n",
              "      <td>1538</td>\n",
              "      <td>1</td>\n",
              "      <td>0</td>\n",
              "      <td>1</td>\n",
              "    </tr>\n",
              "    <tr>\n",
              "      <th>10995</th>\n",
              "      <td>B</td>\n",
              "      <td>Ship</td>\n",
              "      <td>4</td>\n",
              "      <td>1</td>\n",
              "      <td>232</td>\n",
              "      <td>5</td>\n",
              "      <td>F</td>\n",
              "      <td>6</td>\n",
              "      <td>1247</td>\n",
              "      <td>0</td>\n",
              "      <td>0</td>\n",
              "      <td>1</td>\n",
              "    </tr>\n",
              "    <tr>\n",
              "      <th>10996</th>\n",
              "      <td>C</td>\n",
              "      <td>Ship</td>\n",
              "      <td>5</td>\n",
              "      <td>4</td>\n",
              "      <td>242</td>\n",
              "      <td>5</td>\n",
              "      <td>F</td>\n",
              "      <td>4</td>\n",
              "      <td>1155</td>\n",
              "      <td>0</td>\n",
              "      <td>1</td>\n",
              "      <td>0</td>\n",
              "    </tr>\n",
              "    <tr>\n",
              "      <th>10997</th>\n",
              "      <td>F</td>\n",
              "      <td>Ship</td>\n",
              "      <td>5</td>\n",
              "      <td>2</td>\n",
              "      <td>223</td>\n",
              "      <td>6</td>\n",
              "      <td>M</td>\n",
              "      <td>2</td>\n",
              "      <td>1210</td>\n",
              "      <td>0</td>\n",
              "      <td>0</td>\n",
              "      <td>1</td>\n",
              "    </tr>\n",
              "    <tr>\n",
              "      <th>10998</th>\n",
              "      <td>D</td>\n",
              "      <td>Ship</td>\n",
              "      <td>2</td>\n",
              "      <td>5</td>\n",
              "      <td>155</td>\n",
              "      <td>5</td>\n",
              "      <td>F</td>\n",
              "      <td>6</td>\n",
              "      <td>1639</td>\n",
              "      <td>0</td>\n",
              "      <td>1</td>\n",
              "      <td>0</td>\n",
              "    </tr>\n",
              "  </tbody>\n",
              "</table>\n",
              "<p>10999 rows × 12 columns</p>\n",
              "</div>"
            ],
            "text/plain": [
              "      Warehouse_block  ... Product_importance_medium\n",
              "0                   D  ...                         0\n",
              "1                   F  ...                         0\n",
              "2                   A  ...                         0\n",
              "3                   B  ...                         1\n",
              "4                   C  ...                         1\n",
              "...               ...  ...                       ...\n",
              "10994               A  ...                         1\n",
              "10995               B  ...                         1\n",
              "10996               C  ...                         0\n",
              "10997               F  ...                         1\n",
              "10998               D  ...                         0\n",
              "\n",
              "[10999 rows x 12 columns]"
            ]
          },
          "metadata": {
            "tags": []
          },
          "execution_count": 30
        }
      ]
    },
    {
      "cell_type": "markdown",
      "metadata": {
        "id": "4VAT2ey7QVqi"
      },
      "source": [
        "# Train-test split"
      ]
    },
    {
      "cell_type": "code",
      "metadata": {
        "id": "2lTWo2u8nVUl"
      },
      "source": [
        "x=df.drop(['Reached on Time','Warehouse_block','Mode_of_Shipment','Gender'],axis=1)\n",
        "y=df['Reached on Time']"
      ],
      "execution_count": null,
      "outputs": []
    },
    {
      "cell_type": "code",
      "metadata": {
        "id": "MxOG7RYtnZhs"
      },
      "source": [
        "from sklearn.preprocessing import LabelEncoder\n",
        "le=LabelEncoder()\n",
        "df[\"Mode_of_Shipment\"]=le.fit_transform(df[\"Mode_of_Shipment\"])\n",
        "df[\"Gender\"]=le.fit_transform(df[\"Gender\"])\n"
      ],
      "execution_count": null,
      "outputs": []
    },
    {
      "cell_type": "code",
      "metadata": {
        "colab": {
          "base_uri": "https://localhost:8080/",
          "height": 454
        },
        "id": "Yr6Q-TcjnxL8",
        "outputId": "a4bde830-2aa0-47ac-a989-c668d18843eb"
      },
      "source": [
        "df.drop(columns=[\"Warehouse_block\"])"
      ],
      "execution_count": null,
      "outputs": [
        {
          "output_type": "execute_result",
          "data": {
            "text/html": [
              "<div>\n",
              "<style scoped>\n",
              "    .dataframe tbody tr th:only-of-type {\n",
              "        vertical-align: middle;\n",
              "    }\n",
              "\n",
              "    .dataframe tbody tr th {\n",
              "        vertical-align: top;\n",
              "    }\n",
              "\n",
              "    .dataframe thead th {\n",
              "        text-align: right;\n",
              "    }\n",
              "</style>\n",
              "<table border=\"1\" class=\"dataframe\">\n",
              "  <thead>\n",
              "    <tr style=\"text-align: right;\">\n",
              "      <th></th>\n",
              "      <th>Mode_of_Shipment</th>\n",
              "      <th>Customer_care_calls</th>\n",
              "      <th>Customer_rating</th>\n",
              "      <th>Cost_of_the_Product</th>\n",
              "      <th>Prior_purchases</th>\n",
              "      <th>Gender</th>\n",
              "      <th>Discount_offered</th>\n",
              "      <th>Weight_in_gms</th>\n",
              "      <th>Reached on Time</th>\n",
              "      <th>Product_importance_low</th>\n",
              "      <th>Product_importance_medium</th>\n",
              "    </tr>\n",
              "  </thead>\n",
              "  <tbody>\n",
              "    <tr>\n",
              "      <th>0</th>\n",
              "      <td>0</td>\n",
              "      <td>4</td>\n",
              "      <td>2</td>\n",
              "      <td>177</td>\n",
              "      <td>3</td>\n",
              "      <td>0</td>\n",
              "      <td>44</td>\n",
              "      <td>1233</td>\n",
              "      <td>1</td>\n",
              "      <td>1</td>\n",
              "      <td>0</td>\n",
              "    </tr>\n",
              "    <tr>\n",
              "      <th>1</th>\n",
              "      <td>0</td>\n",
              "      <td>4</td>\n",
              "      <td>5</td>\n",
              "      <td>216</td>\n",
              "      <td>2</td>\n",
              "      <td>1</td>\n",
              "      <td>59</td>\n",
              "      <td>3088</td>\n",
              "      <td>1</td>\n",
              "      <td>1</td>\n",
              "      <td>0</td>\n",
              "    </tr>\n",
              "    <tr>\n",
              "      <th>2</th>\n",
              "      <td>0</td>\n",
              "      <td>2</td>\n",
              "      <td>2</td>\n",
              "      <td>183</td>\n",
              "      <td>4</td>\n",
              "      <td>1</td>\n",
              "      <td>48</td>\n",
              "      <td>3374</td>\n",
              "      <td>1</td>\n",
              "      <td>1</td>\n",
              "      <td>0</td>\n",
              "    </tr>\n",
              "    <tr>\n",
              "      <th>3</th>\n",
              "      <td>0</td>\n",
              "      <td>3</td>\n",
              "      <td>3</td>\n",
              "      <td>176</td>\n",
              "      <td>4</td>\n",
              "      <td>1</td>\n",
              "      <td>10</td>\n",
              "      <td>1177</td>\n",
              "      <td>1</td>\n",
              "      <td>0</td>\n",
              "      <td>1</td>\n",
              "    </tr>\n",
              "    <tr>\n",
              "      <th>4</th>\n",
              "      <td>0</td>\n",
              "      <td>2</td>\n",
              "      <td>2</td>\n",
              "      <td>184</td>\n",
              "      <td>3</td>\n",
              "      <td>0</td>\n",
              "      <td>46</td>\n",
              "      <td>2484</td>\n",
              "      <td>1</td>\n",
              "      <td>0</td>\n",
              "      <td>1</td>\n",
              "    </tr>\n",
              "    <tr>\n",
              "      <th>...</th>\n",
              "      <td>...</td>\n",
              "      <td>...</td>\n",
              "      <td>...</td>\n",
              "      <td>...</td>\n",
              "      <td>...</td>\n",
              "      <td>...</td>\n",
              "      <td>...</td>\n",
              "      <td>...</td>\n",
              "      <td>...</td>\n",
              "      <td>...</td>\n",
              "      <td>...</td>\n",
              "    </tr>\n",
              "    <tr>\n",
              "      <th>10994</th>\n",
              "      <td>2</td>\n",
              "      <td>4</td>\n",
              "      <td>1</td>\n",
              "      <td>252</td>\n",
              "      <td>5</td>\n",
              "      <td>0</td>\n",
              "      <td>1</td>\n",
              "      <td>1538</td>\n",
              "      <td>1</td>\n",
              "      <td>0</td>\n",
              "      <td>1</td>\n",
              "    </tr>\n",
              "    <tr>\n",
              "      <th>10995</th>\n",
              "      <td>2</td>\n",
              "      <td>4</td>\n",
              "      <td>1</td>\n",
              "      <td>232</td>\n",
              "      <td>5</td>\n",
              "      <td>0</td>\n",
              "      <td>6</td>\n",
              "      <td>1247</td>\n",
              "      <td>0</td>\n",
              "      <td>0</td>\n",
              "      <td>1</td>\n",
              "    </tr>\n",
              "    <tr>\n",
              "      <th>10996</th>\n",
              "      <td>2</td>\n",
              "      <td>5</td>\n",
              "      <td>4</td>\n",
              "      <td>242</td>\n",
              "      <td>5</td>\n",
              "      <td>0</td>\n",
              "      <td>4</td>\n",
              "      <td>1155</td>\n",
              "      <td>0</td>\n",
              "      <td>1</td>\n",
              "      <td>0</td>\n",
              "    </tr>\n",
              "    <tr>\n",
              "      <th>10997</th>\n",
              "      <td>2</td>\n",
              "      <td>5</td>\n",
              "      <td>2</td>\n",
              "      <td>223</td>\n",
              "      <td>6</td>\n",
              "      <td>1</td>\n",
              "      <td>2</td>\n",
              "      <td>1210</td>\n",
              "      <td>0</td>\n",
              "      <td>0</td>\n",
              "      <td>1</td>\n",
              "    </tr>\n",
              "    <tr>\n",
              "      <th>10998</th>\n",
              "      <td>2</td>\n",
              "      <td>2</td>\n",
              "      <td>5</td>\n",
              "      <td>155</td>\n",
              "      <td>5</td>\n",
              "      <td>0</td>\n",
              "      <td>6</td>\n",
              "      <td>1639</td>\n",
              "      <td>0</td>\n",
              "      <td>1</td>\n",
              "      <td>0</td>\n",
              "    </tr>\n",
              "  </tbody>\n",
              "</table>\n",
              "<p>10999 rows × 11 columns</p>\n",
              "</div>"
            ],
            "text/plain": [
              "       Mode_of_Shipment  ...  Product_importance_medium\n",
              "0                     0  ...                          0\n",
              "1                     0  ...                          0\n",
              "2                     0  ...                          0\n",
              "3                     0  ...                          1\n",
              "4                     0  ...                          1\n",
              "...                 ...  ...                        ...\n",
              "10994                 2  ...                          1\n",
              "10995                 2  ...                          1\n",
              "10996                 2  ...                          0\n",
              "10997                 2  ...                          1\n",
              "10998                 2  ...                          0\n",
              "\n",
              "[10999 rows x 11 columns]"
            ]
          },
          "metadata": {
            "tags": []
          },
          "execution_count": 33
        }
      ]
    },
    {
      "cell_type": "code",
      "metadata": {
        "colab": {
          "base_uri": "https://localhost:8080/"
        },
        "id": "fqLyp2VDn0pC",
        "outputId": "5cde7612-6ba5-41e4-e9e1-087fd2d3f775"
      },
      "source": [
        "df.shape"
      ],
      "execution_count": null,
      "outputs": [
        {
          "output_type": "execute_result",
          "data": {
            "text/plain": [
              "(10999, 12)"
            ]
          },
          "metadata": {
            "tags": []
          },
          "execution_count": 34
        }
      ]
    },
    {
      "cell_type": "code",
      "metadata": {
        "id": "xmP1zr5Qn351"
      },
      "source": [
        "from sklearn.model_selection import train_test_split\n",
        "xtrain,xtest,ytrain,ytest=train_test_split(x,y,test_size=0.2,random_state=3)"
      ],
      "execution_count": null,
      "outputs": []
    },
    {
      "cell_type": "markdown",
      "metadata": {
        "id": "XDuxaCGbQVql"
      },
      "source": [
        "# Clasification"
      ]
    },
    {
      "cell_type": "code",
      "metadata": {
        "id": "4BZ5H7bfn7Ev"
      },
      "source": [
        "from sklearn import svm\n",
        "from sklearn.decomposition import PCA\n",
        "from sklearn.tree import DecisionTreeClassifier\n",
        "from sklearn.pipeline import Pipeline\n",
        "pipeline_lr=Pipeline([(\"scalar1\",MinMaxScaler()),\n",
        "             (\"pca1\",PCA(n_components=2)),\n",
        "             (\"lr_classifier\",LogisticRegression(random_state=0))])\n",
        "pipeline_dt=Pipeline([(\"scalar1\",MinMaxScaler()),\n",
        "             (\"pca1\",PCA(n_components=2)),\n",
        "             (\"dt_classifier\",DecisionTreeClassifier())])\n",
        "pipeline_randomforest=Pipeline([(\"scalar1\",MinMaxScaler()),\n",
        "             (\"pca1\",PCA(n_components=2)),\n",
        "             (\"rf_classifier\",RandomForestClassifier())])\n"
      ],
      "execution_count": null,
      "outputs": []
    },
    {
      "cell_type": "code",
      "metadata": {
        "id": "MyzSmb6Vn_Ls"
      },
      "source": [
        "pipelines=[pipeline_lr,pipeline_dt,pipeline_randomforest]\n",
        "best_accuracy=0.0\n",
        "best_classifier=0\n",
        "best_pipeline=\"\""
      ],
      "execution_count": null,
      "outputs": []
    },
    {
      "cell_type": "code",
      "metadata": {
        "id": "JZMQ66TVoEIN"
      },
      "source": [
        "pipe_dict={0:\"LogisticRegression\",1:\"DecisionTreeClassifier\",2:\"RandomForestClassifier\"}\n",
        "\n",
        "for pipe in pipelines:\n",
        "    pipe.fit(xtrain,ytrain)"
      ],
      "execution_count": null,
      "outputs": []
    },
    {
      "cell_type": "code",
      "metadata": {
        "colab": {
          "base_uri": "https://localhost:8080/"
        },
        "id": "KPRoFU-9oMEo",
        "outputId": "4d959067-879c-4734-b78b-d78f953cafc2"
      },
      "source": [
        "for i,model in enumerate(pipelines):\n",
        "    print(\"{} Test Accuracy:{}\".format(pipe_dict[i],model.score(xtest,ytest)))"
      ],
      "execution_count": null,
      "outputs": [
        {
          "output_type": "stream",
          "text": [
            "LogisticRegression Test Accuracy:0.5827272727272728\n",
            "DecisionTreeClassifier Test Accuracy:0.6272727272727273\n",
            "RandomForestClassifier Test Accuracy:0.6459090909090909\n"
          ],
          "name": "stdout"
        }
      ]
    },
    {
      "cell_type": "code",
      "metadata": {
        "colab": {
          "base_uri": "https://localhost:8080/"
        },
        "id": "Z7C-7AQooROv",
        "outputId": "68067e80-f340-4a09-fe9d-ce5b4484a9b8"
      },
      "source": [
        "for i,model in enumerate(pipelines):\n",
        "    if model.score(xtest,ytest)>best_accuracy:\n",
        "        best_accuracy=model.score(xtest,ytest)\n",
        "        best_pipeline=model\n",
        "        best_classifier=1\n",
        "        \n",
        "print(\"Classifier with best accuracy:{}\".format(pipe_dict[best_classifier])) "
      ],
      "execution_count": null,
      "outputs": [
        {
          "output_type": "stream",
          "text": [
            "Classifier with best accuracy:DecisionTreeClassifier\n"
          ],
          "name": "stdout"
        }
      ]
    },
    {
      "cell_type": "code",
      "metadata": {
        "colab": {
          "base_uri": "https://localhost:8080/"
        },
        "id": "U0M6cZH8o7L7",
        "outputId": "6da4af38-7165-483e-a93b-bb42b531c2a5"
      },
      "source": [
        "ypred=model.predict(xtest)\n",
        "ypred"
      ],
      "execution_count": null,
      "outputs": [
        {
          "output_type": "execute_result",
          "data": {
            "text/plain": [
              "array([0, 0, 1, ..., 1, 0, 1])"
            ]
          },
          "metadata": {
            "tags": []
          },
          "execution_count": 41
        }
      ]
    },
    {
      "cell_type": "code",
      "metadata": {
        "colab": {
          "base_uri": "https://localhost:8080/",
          "height": 416
        },
        "id": "iLpIvHNnoYKP",
        "outputId": "e04e1917-7267-4b8e-9205-e4d9e2842d7a"
      },
      "source": [
        "# Hence Decision tree classifier has the best accuruacy\n",
        "# So further process we will continue on it\n",
        "from sklearn.metrics import accuracy_score,confusion_matrix,classification_report\n",
        "cm=confusion_matrix(ytest,ypred)\n",
        "sns.heatmap(cm,annot=True)\n",
        "print(classification_report(ytest,ypred))"
      ],
      "execution_count": null,
      "outputs": [
        {
          "output_type": "stream",
          "text": [
            "              precision    recall  f1-score   support\n",
            "\n",
            "           0       0.58      0.57      0.58       918\n",
            "           1       0.70      0.70      0.70      1282\n",
            "\n",
            "    accuracy                           0.65      2200\n",
            "   macro avg       0.64      0.64      0.64      2200\n",
            "weighted avg       0.65      0.65      0.65      2200\n",
            "\n"
          ],
          "name": "stdout"
        },
        {
          "output_type": "display_data",
          "data": {
            "image/png": "[encoded data removed]",
            "text/plain": [
              "<Figure size 432x288 with 2 Axes>"
            ]
          },
          "metadata": {
            "tags": [],
            "needs_background": "light"
          }
        }
      ]
    },
    {
      "cell_type": "code",
      "metadata": {
        "id": "FZjpt5XsofIr"
      },
      "source": [
        "from sklearn.model_selection import RandomizedSearchCV\n",
        "from sklearn.tree import DecisionTreeClassifier"
      ],
      "execution_count": null,
      "outputs": []
    },
    {
      "cell_type": "code",
      "metadata": {
        "id": "AWwH6uaqpGdo"
      },
      "source": [
        "parameters={\"max_depth\":(10,30,50,70,90,100),\n",
        "            \"criterion\":(\"gini\",\"entropy\"),\n",
        "            \"max_depth\":(3,5,7,9,10),\n",
        "            \"max_features\":(\"auto\",\"sqrt\",\"log2\"),\n",
        "            \"min_samples_split\":(2,4,6)\n",
        "    \n",
        "}"
      ],
      "execution_count": null,
      "outputs": []
    },
    {
      "cell_type": "code",
      "metadata": {
        "id": "dXPtrqkqpK0D"
      },
      "source": [
        "DT_grid=RandomizedSearchCV(DecisionTreeClassifier(),param_distributions=parameters,cv=5,verbose=True)\n"
      ],
      "execution_count": null,
      "outputs": []
    },
    {
      "cell_type": "code",
      "metadata": {
        "colab": {
          "base_uri": "https://localhost:8080/"
        },
        "id": "5WpxTVvspOB8",
        "outputId": "22fd1568-ca40-4f75-d92c-6f2de4dc6abf"
      },
      "source": [
        "DT_grid.fit(xtrain,ytrain)"
      ],
      "execution_count": null,
      "outputs": [
        {
          "output_type": "stream",
          "text": [
            "Fitting 5 folds for each of 10 candidates, totalling 50 fits\n"
          ],
          "name": "stdout"
        },
        {
          "output_type": "stream",
          "text": [
            "[Parallel(n_jobs=1)]: Using backend SequentialBackend with 1 concurrent workers.\n",
            "[Parallel(n_jobs=1)]: Done  50 out of  50 | elapsed:    0.5s finished\n"
          ],
          "name": "stderr"
        },
        {
          "output_type": "execute_result",
          "data": {
            "text/plain": [
              "RandomizedSearchCV(cv=5, error_score=nan,\n",
              "                   estimator=DecisionTreeClassifier(ccp_alpha=0.0,\n",
              "                                                    class_weight=None,\n",
              "                                                    criterion='gini',\n",
              "                                                    max_depth=None,\n",
              "                                                    max_features=None,\n",
              "                                                    max_leaf_nodes=None,\n",
              "                                                    min_impurity_decrease=0.0,\n",
              "                                                    min_impurity_split=None,\n",
              "                                                    min_samples_leaf=1,\n",
              "                                                    min_samples_split=2,\n",
              "                                                    min_weight_fraction_leaf=0.0,\n",
              "                                                    presort='deprecated',\n",
              "                                                    random_state=None,\n",
              "                                                    splitter='best'),\n",
              "                   iid='deprecated', n_iter=10, n_jobs=None,\n",
              "                   param_distributions={'criterion': ('gini', 'entropy'),\n",
              "                                        'max_depth': (3, 5, 7, 9, 10),\n",
              "                                        'max_features': ('auto', 'sqrt',\n",
              "                                                         'log2'),\n",
              "                                        'min_samples_split': (2, 4, 6)},\n",
              "                   pre_dispatch='2*n_jobs', random_state=None, refit=True,\n",
              "                   return_train_score=False, scoring=None, verbose=True)"
            ]
          },
          "metadata": {
            "tags": []
          },
          "execution_count": 45
        }
      ]
    },
    {
      "cell_type": "code",
      "metadata": {
        "colab": {
          "base_uri": "https://localhost:8080/"
        },
        "id": "R7eTYH63pSX_",
        "outputId": "0721030f-e17c-410b-9f71-73546670d3ff"
      },
      "source": [
        "DT_grid.best_estimator_"
      ],
      "execution_count": null,
      "outputs": [
        {
          "output_type": "execute_result",
          "data": {
            "text/plain": [
              "DecisionTreeClassifier(ccp_alpha=0.0, class_weight=None, criterion='gini',\n",
              "                       max_depth=9, max_features='auto', max_leaf_nodes=None,\n",
              "                       min_impurity_decrease=0.0, min_impurity_split=None,\n",
              "                       min_samples_leaf=1, min_samples_split=2,\n",
              "                       min_weight_fraction_leaf=0.0, presort='deprecated',\n",
              "                       random_state=None, splitter='best')"
            ]
          },
          "metadata": {
            "tags": []
          },
          "execution_count": 46
        }
      ]
    },
    {
      "cell_type": "code",
      "metadata": {
        "id": "6NICq2qOwVFS"
      },
      "source": [
        "DT_Model=DecisionTreeClassifier(ccp_alpha=0.0, class_weight=None, criterion='gini',\n",
        "                       max_depth=9, max_features='auto', max_leaf_nodes=None,\n",
        "                       min_impurity_decrease=0.0, min_impurity_split=None,\n",
        "                       min_samples_leaf=1, min_samples_split=2,\n",
        "                       min_weight_fraction_leaf=0.0, presort='deprecated',\n",
        "                       random_state=None, splitter='best')"
      ],
      "execution_count": null,
      "outputs": []
    },
    {
      "cell_type": "code",
      "metadata": {
        "colab": {
          "base_uri": "https://localhost:8080/"
        },
        "id": "SHDFPJTjPh9F",
        "outputId": "e899325e-9036-4fc4-8b77-db564b62f2fa"
      },
      "source": [
        "DT_Model.fit(xtrain,ytrain)"
      ],
      "execution_count": null,
      "outputs": [
        {
          "output_type": "execute_result",
          "data": {
            "text/plain": [
              "DecisionTreeClassifier(ccp_alpha=0.0, class_weight=None, criterion='gini',\n",
              "                       max_depth=9, max_features='auto', max_leaf_nodes=None,\n",
              "                       min_impurity_decrease=0.0, min_impurity_split=None,\n",
              "                       min_samples_leaf=1, min_samples_split=2,\n",
              "                       min_weight_fraction_leaf=0.0, presort='deprecated',\n",
              "                       random_state=None, splitter='best')"
            ]
          },
          "metadata": {
            "tags": []
          },
          "execution_count": 48
        }
      ]
    },
    {
      "cell_type": "code",
      "metadata": {
        "colab": {
          "base_uri": "https://localhost:8080/"
        },
        "id": "Vf5O5HZwPmEw",
        "outputId": "c2c89e57-b58d-4b88-b8f7-92f5935bf318"
      },
      "source": [
        "print(f\"Train Accuracy - :{DT_Model.score(xtrain,ytrain):.3f}\")\n",
        "print(f\"Test Accuracy - :{DT_Model.score(xtest,ytest):.3f}\")\n"
      ],
      "execution_count": null,
      "outputs": [
        {
          "output_type": "stream",
          "text": [
            "Train Accuracy - :0.711\n",
            "Test Accuracy - :0.677\n"
          ],
          "name": "stdout"
        }
      ]
    },
    {
      "cell_type": "markdown",
      "metadata": {
        "id": "3u5t7GUAQVqr"
      },
      "source": [
        "# ANN"
      ]
    },
    {
      "cell_type": "code",
      "metadata": {
        "id": "tqYTDfaaPp-w"
      },
      "source": [
        "from keras.models import Sequential\n",
        "from keras.layers import Dense"
      ],
      "execution_count": null,
      "outputs": []
    },
    {
      "cell_type": "code",
      "metadata": {
        "colab": {
          "base_uri": "https://localhost:8080/"
        },
        "id": "-wE46JuiP4BI",
        "outputId": "284d0360-c7d2-4f2a-bf7b-f81219d6d6f1"
      },
      "source": [
        "ann = Sequential()\n",
        "ann.add(Dense(14,input_dim=8,activation='relu'))\n",
        "ann.add(Dense(8,activation='relu'))\n",
        "ann.add(Dense(8,activation='relu'))\n",
        "ann.add(Dense(1,activation='sigmoid'))\n",
        "ann.compile(loss=\"binary_crossentropy\", optimizer='SGD',metrics=['accuracy'])\n",
        "ann.fit(xtrain, ytrain, epochs=100, batch_size=15)"
      ],
      "execution_count": null,
      "outputs": [
        {
          "output_type": "stream",
          "text": [
            "Epoch 1/100\n",
            "587/587 [==============================] - 14s 1ms/step - loss: 1945143.0386 - accuracy: 0.5985\n",
            "Epoch 2/100\n",
            "587/587 [==============================] - 1s 1ms/step - loss: 0.6723 - accuracy: 0.6044\n",
            "Epoch 3/100\n",
            "587/587 [==============================] - 1s 1ms/step - loss: 0.6735 - accuracy: 0.5992\n",
            "Epoch 4/100\n",
            "587/587 [==============================] - 1s 1ms/step - loss: 0.6762 - accuracy: 0.5921\n",
            "Epoch 5/100\n",
            "587/587 [==============================] - 1s 1ms/step - loss: 0.6716 - accuracy: 0.6035\n",
            "Epoch 6/100\n",
            "587/587 [==============================] - 1s 1ms/step - loss: 0.6745 - accuracy: 0.5964\n",
            "Epoch 7/100\n",
            "587/587 [==============================] - 1s 1ms/step - loss: 0.6735 - accuracy: 0.5988\n",
            "Epoch 8/100\n",
            "587/587 [==============================] - 1s 1ms/step - loss: 0.6771 - accuracy: 0.5900\n",
            "Epoch 9/100\n",
            "587/587 [==============================] - 1s 1ms/step - loss: 0.6765 - accuracy: 0.5913\n",
            "Epoch 10/100\n",
            "587/587 [==============================] - 1s 1ms/step - loss: 0.6753 - accuracy: 0.5948\n",
            "Epoch 11/100\n",
            "587/587 [==============================] - 1s 1ms/step - loss: 0.6708 - accuracy: 0.6055\n",
            "Epoch 12/100\n",
            "587/587 [==============================] - 1s 1ms/step - loss: 0.6763 - accuracy: 0.5919\n",
            "Epoch 13/100\n",
            "587/587 [==============================] - 1s 1ms/step - loss: 0.6713 - accuracy: 0.6043\n",
            "Epoch 14/100\n",
            "587/587 [==============================] - 1s 1ms/step - loss: 0.6716 - accuracy: 0.6037\n",
            "Epoch 15/100\n",
            "587/587 [==============================] - 1s 1ms/step - loss: 0.6741 - accuracy: 0.5973\n",
            "Epoch 16/100\n",
            "587/587 [==============================] - 1s 1ms/step - loss: 0.6748 - accuracy: 0.5959\n",
            "Epoch 17/100\n",
            "587/587 [==============================] - 1s 1ms/step - loss: 0.6744 - accuracy: 0.5967\n",
            "Epoch 18/100\n",
            "587/587 [==============================] - 1s 1ms/step - loss: 0.6719 - accuracy: 0.6028\n",
            "Epoch 19/100\n",
            "587/587 [==============================] - 1s 1ms/step - loss: 0.6713 - accuracy: 0.6043\n",
            "Epoch 20/100\n",
            "587/587 [==============================] - 1s 1ms/step - loss: 0.6683 - accuracy: 0.6114\n",
            "Epoch 21/100\n",
            "587/587 [==============================] - 1s 1ms/step - loss: 0.6729 - accuracy: 0.6005\n",
            "Epoch 22/100\n",
            "587/587 [==============================] - 1s 1ms/step - loss: 0.6727 - accuracy: 0.6009\n",
            "Epoch 23/100\n",
            "587/587 [==============================] - 1s 1ms/step - loss: 0.6729 - accuracy: 0.6004\n",
            "Epoch 24/100\n",
            "587/587 [==============================] - 1s 1ms/step - loss: 0.6734 - accuracy: 0.5992\n",
            "Epoch 25/100\n",
            "587/587 [==============================] - 1s 1ms/step - loss: 0.6738 - accuracy: 0.5982\n",
            "Epoch 26/100\n",
            "587/587 [==============================] - 1s 1ms/step - loss: 0.6755 - accuracy: 0.5940\n",
            "Epoch 27/100\n",
            "587/587 [==============================] - 1s 1ms/step - loss: 0.6732 - accuracy: 0.5997\n",
            "Epoch 28/100\n",
            "587/587 [==============================] - 1s 1ms/step - loss: 0.6751 - accuracy: 0.5949\n",
            "Epoch 29/100\n",
            "587/587 [==============================] - 1s 1ms/step - loss: 0.6728 - accuracy: 0.6008\n",
            "Epoch 30/100\n",
            "587/587 [==============================] - 1s 1ms/step - loss: 0.6717 - accuracy: 0.6033\n",
            "Epoch 31/100\n",
            "587/587 [==============================] - 1s 1ms/step - loss: 0.6741 - accuracy: 0.5974\n",
            "Epoch 32/100\n",
            "587/587 [==============================] - 1s 1ms/step - loss: 0.6781 - accuracy: 0.5874\n",
            "Epoch 33/100\n",
            "587/587 [==============================] - 1s 1ms/step - loss: 0.6734 - accuracy: 0.5992\n",
            "Epoch 34/100\n",
            "587/587 [==============================] - 1s 1ms/step - loss: 0.6719 - accuracy: 0.6029\n",
            "Epoch 35/100\n",
            "587/587 [==============================] - 1s 1ms/step - loss: 0.6726 - accuracy: 0.6013\n",
            "Epoch 36/100\n",
            "587/587 [==============================] - 1s 1ms/step - loss: 0.6713 - accuracy: 0.6043\n",
            "Epoch 37/100\n",
            "587/587 [==============================] - 1s 1ms/step - loss: 0.6724 - accuracy: 0.6016\n",
            "Epoch 38/100\n",
            "587/587 [==============================] - 1s 1ms/step - loss: 0.6721 - accuracy: 0.6024\n",
            "Epoch 39/100\n",
            "587/587 [==============================] - 1s 1ms/step - loss: 0.6728 - accuracy: 0.6007\n",
            "Epoch 40/100\n",
            "587/587 [==============================] - 1s 1ms/step - loss: 0.6753 - accuracy: 0.5945\n",
            "Epoch 41/100\n",
            "587/587 [==============================] - 1s 1ms/step - loss: 0.6733 - accuracy: 0.5994\n",
            "Epoch 42/100\n",
            "587/587 [==============================] - 1s 1ms/step - loss: 0.6703 - accuracy: 0.6068\n",
            "Epoch 43/100\n",
            "587/587 [==============================] - 1s 1ms/step - loss: 0.6754 - accuracy: 0.5943\n",
            "Epoch 44/100\n",
            "587/587 [==============================] - 1s 1ms/step - loss: 0.6700 - accuracy: 0.6074\n",
            "Epoch 45/100\n",
            "587/587 [==============================] - 1s 1ms/step - loss: 0.6695 - accuracy: 0.6088\n",
            "Epoch 46/100\n",
            "587/587 [==============================] - 1s 1ms/step - loss: 0.6714 - accuracy: 0.6041\n",
            "Epoch 47/100\n",
            "587/587 [==============================] - 1s 1ms/step - loss: 0.6722 - accuracy: 0.6022\n",
            "Epoch 48/100\n",
            "587/587 [==============================] - 1s 1ms/step - loss: 0.6739 - accuracy: 0.5980\n",
            "Epoch 49/100\n",
            "587/587 [==============================] - 1s 1ms/step - loss: 0.6689 - accuracy: 0.6100\n",
            "Epoch 50/100\n",
            "587/587 [==============================] - 1s 1ms/step - loss: 0.6740 - accuracy: 0.5975\n",
            "Epoch 51/100\n",
            "587/587 [==============================] - 1s 1ms/step - loss: 0.6738 - accuracy: 0.5982\n",
            "Epoch 52/100\n",
            "587/587 [==============================] - 1s 1ms/step - loss: 0.6717 - accuracy: 0.6032\n",
            "Epoch 53/100\n",
            "587/587 [==============================] - 1s 1ms/step - loss: 0.6726 - accuracy: 0.6012\n",
            "Epoch 54/100\n",
            "587/587 [==============================] - 1s 1ms/step - loss: 0.6761 - accuracy: 0.5925\n",
            "Epoch 55/100\n",
            "587/587 [==============================] - 1s 1ms/step - loss: 0.6728 - accuracy: 0.6007\n",
            "Epoch 56/100\n",
            "587/587 [==============================] - 1s 1ms/step - loss: 0.6723 - accuracy: 0.6019\n",
            "Epoch 57/100\n",
            "587/587 [==============================] - 1s 1ms/step - loss: 0.6722 - accuracy: 0.6022\n",
            "Epoch 58/100\n",
            "587/587 [==============================] - 1s 1ms/step - loss: 0.6754 - accuracy: 0.5943\n",
            "Epoch 59/100\n",
            "587/587 [==============================] - 1s 1ms/step - loss: 0.6719 - accuracy: 0.6029\n",
            "Epoch 60/100\n",
            "587/587 [==============================] - 1s 1ms/step - loss: 0.6748 - accuracy: 0.5956\n",
            "Epoch 61/100\n",
            "587/587 [==============================] - 1s 1ms/step - loss: 0.6732 - accuracy: 0.5998\n",
            "Epoch 62/100\n",
            "587/587 [==============================] - 1s 1ms/step - loss: 0.6719 - accuracy: 0.6029\n",
            "Epoch 63/100\n",
            "587/587 [==============================] - 1s 1ms/step - loss: 0.6702 - accuracy: 0.6070\n",
            "Epoch 64/100\n",
            "587/587 [==============================] - 1s 1ms/step - loss: 0.6718 - accuracy: 0.6032\n",
            "Epoch 65/100\n",
            "587/587 [==============================] - 1s 1ms/step - loss: 0.6721 - accuracy: 0.6024\n",
            "Epoch 66/100\n",
            "587/587 [==============================] - 1s 1ms/step - loss: 0.6694 - accuracy: 0.6090\n",
            "Epoch 67/100\n",
            "587/587 [==============================] - 1s 1ms/step - loss: 0.6716 - accuracy: 0.6036\n",
            "Epoch 68/100\n",
            "587/587 [==============================] - 1s 1ms/step - loss: 0.6771 - accuracy: 0.5900\n",
            "Epoch 69/100\n",
            "587/587 [==============================] - 1s 1ms/step - loss: 0.6711 - accuracy: 0.6045\n",
            "Epoch 70/100\n",
            "587/587 [==============================] - 1s 1ms/step - loss: 0.6749 - accuracy: 0.5955\n",
            "Epoch 71/100\n",
            "587/587 [==============================] - 1s 1ms/step - loss: 0.6720 - accuracy: 0.6027\n",
            "Epoch 72/100\n",
            "587/587 [==============================] - 1s 1ms/step - loss: 0.6705 - accuracy: 0.6064\n",
            "Epoch 73/100\n",
            "587/587 [==============================] - 1s 1ms/step - loss: 0.6716 - accuracy: 0.6037\n",
            "Epoch 74/100\n",
            "587/587 [==============================] - 1s 1ms/step - loss: 0.6730 - accuracy: 0.6002\n",
            "Epoch 75/100\n",
            "587/587 [==============================] - 1s 1ms/step - loss: 0.6707 - accuracy: 0.6059\n",
            "Epoch 76/100\n",
            "587/587 [==============================] - 1s 1ms/step - loss: 0.6717 - accuracy: 0.6034\n",
            "Epoch 77/100\n",
            "587/587 [==============================] - 1s 1ms/step - loss: 0.6740 - accuracy: 0.5977\n",
            "Epoch 78/100\n",
            "587/587 [==============================] - 1s 1ms/step - loss: 0.6777 - accuracy: 0.5886\n",
            "Epoch 79/100\n",
            "587/587 [==============================] - 1s 1ms/step - loss: 0.6750 - accuracy: 0.5954\n",
            "Epoch 80/100\n",
            "587/587 [==============================] - 1s 1ms/step - loss: 0.6712 - accuracy: 0.6045\n",
            "Epoch 81/100\n",
            "587/587 [==============================] - 1s 1ms/step - loss: 0.6724 - accuracy: 0.6015\n",
            "Epoch 82/100\n",
            "587/587 [==============================] - 1s 1ms/step - loss: 0.6722 - accuracy: 0.6021\n",
            "Epoch 83/100\n",
            "587/587 [==============================] - 1s 1ms/step - loss: 0.6682 - accuracy: 0.6118\n",
            "Epoch 84/100\n",
            "587/587 [==============================] - 1s 1ms/step - loss: 0.6746 - accuracy: 0.5962\n",
            "Epoch 85/100\n",
            "587/587 [==============================] - 1s 1ms/step - loss: 0.6708 - accuracy: 0.6055\n",
            "Epoch 86/100\n",
            "587/587 [==============================] - 1s 1ms/step - loss: 0.6761 - accuracy: 0.5922\n",
            "Epoch 87/100\n",
            "587/587 [==============================] - 1s 1ms/step - loss: 0.6759 - accuracy: 0.5931\n",
            "Epoch 88/100\n",
            "587/587 [==============================] - 1s 1ms/step - loss: 0.6762 - accuracy: 0.5922\n",
            "Epoch 89/100\n",
            "587/587 [==============================] - 1s 1ms/step - loss: 0.6728 - accuracy: 0.6006\n",
            "Epoch 90/100\n",
            "587/587 [==============================] - 1s 1ms/step - loss: 0.6713 - accuracy: 0.6043\n",
            "Epoch 91/100\n",
            "587/587 [==============================] - 1s 1ms/step - loss: 0.6720 - accuracy: 0.6027\n",
            "Epoch 92/100\n",
            "587/587 [==============================] - 1s 1ms/step - loss: 0.6730 - accuracy: 0.6003\n",
            "Epoch 93/100\n",
            "587/587 [==============================] - 1s 1ms/step - loss: 0.6727 - accuracy: 0.6010\n",
            "Epoch 94/100\n",
            "587/587 [==============================] - 1s 1ms/step - loss: 0.6737 - accuracy: 0.5984\n",
            "Epoch 95/100\n",
            "587/587 [==============================] - 1s 1ms/step - loss: 0.6722 - accuracy: 0.6022\n",
            "Epoch 96/100\n",
            "587/587 [==============================] - 1s 1ms/step - loss: 0.6730 - accuracy: 0.6001\n",
            "Epoch 97/100\n",
            "587/587 [==============================] - 1s 1ms/step - loss: 0.6737 - accuracy: 0.5985\n",
            "Epoch 98/100\n",
            "587/587 [==============================] - 1s 1ms/step - loss: 0.6713 - accuracy: 0.6042\n",
            "Epoch 99/100\n",
            "587/587 [==============================] - 1s 1ms/step - loss: 0.6741 - accuracy: 0.5974\n",
            "Epoch 100/100\n",
            "587/587 [==============================] - 1s 1ms/step - loss: 0.6718 - accuracy: 0.6032\n"
          ],
          "name": "stdout"
        },
        {
          "output_type": "execute_result",
          "data": {
            "text/plain": [
              "<keras.callbacks.History at 0x7f0fe5edaa10>"
            ]
          },
          "metadata": {
            "tags": []
          },
          "execution_count": 53
        }
      ]
    },
    {
      "cell_type": "code",
      "metadata": {
        "colab": {
          "base_uri": "https://localhost:8080/"
        },
        "id": "rF7vOxnVQLac",
        "outputId": "18cc24f5-4b8f-4416-e02a-3533924ba416"
      },
      "source": [
        "predictions = (ann.predict(xtest) > 0.5)\n",
        "print(classification_report(ytest,predictions))"
      ],
      "execution_count": null,
      "outputs": [
        {
          "output_type": "stream",
          "text": [
            "              precision    recall  f1-score   support\n",
            "\n",
            "           0       0.00      0.00      0.00       918\n",
            "           1       0.58      1.00      0.74      1282\n",
            "\n",
            "    accuracy                           0.58      2200\n",
            "   macro avg       0.29      0.50      0.37      2200\n",
            "weighted avg       0.34      0.58      0.43      2200\n",
            "\n"
          ],
          "name": "stdout"
        },
        {
          "output_type": "stream",
          "text": [
            "/usr/local/lib/python3.7/dist-packages/sklearn/metrics/_classification.py:1272: UndefinedMetricWarning: Precision and F-score are ill-defined and being set to 0.0 in labels with no predicted samples. Use `zero_division` parameter to control this behavior.\n",
            "  _warn_prf(average, modifier, msg_start, len(result))\n"
          ],
          "name": "stderr"
        }
      ]
    },
    {
      "cell_type": "code",
      "metadata": {
        "id": "cpZGNnuMRVDh"
      },
      "source": [
        "Conclusion:ANN gives 58% accuracy."
      ],
      "execution_count": null,
      "outputs": []
    }
  ]
}